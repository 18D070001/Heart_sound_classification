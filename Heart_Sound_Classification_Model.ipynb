{
  "nbformat": 4,
  "nbformat_minor": 0,
  "metadata": {
    "colab": {
      "name": "Heart Sound Classification Model.ipynb",
      "provenance": [],
      "collapsed_sections": []
    },
    "kernelspec": {
      "name": "python3",
      "display_name": "Python 3"
    },
    "accelerator": "GPU"
  },
  "cells": [
    {
      "cell_type": "markdown",
      "metadata": {
        "id": "li7DvRTBW3D6",
        "colab_type": "text"
      },
      "source": [
        "## **Installing Libraries**"
      ]
    },
    {
      "cell_type": "code",
      "metadata": {
        "id": "JAGmKzcQvETi",
        "colab_type": "code",
        "colab": {
          "base_uri": "https://localhost:8080/",
          "height": 193
        },
        "outputId": "22960d60-7d29-4d2d-8d7a-2ddb70d87fe1"
      },
      "source": [
        "!pip install python_speech_features"
      ],
      "execution_count": null,
      "outputs": [
        {
          "output_type": "stream",
          "text": [
            "Collecting python_speech_features\n",
            "  Downloading https://files.pythonhosted.org/packages/ff/d1/94c59e20a2631985fbd2124c45177abaa9e0a4eee8ba8a305aa26fc02a8e/python_speech_features-0.6.tar.gz\n",
            "Building wheels for collected packages: python-speech-features\n",
            "  Building wheel for python-speech-features (setup.py) ... \u001b[?25l\u001b[?25hdone\n",
            "  Created wheel for python-speech-features: filename=python_speech_features-0.6-cp36-none-any.whl size=5887 sha256=544f3f4f77c88751552fa2fe86a83706d2a598d4b2d8114de8109092364a486c\n",
            "  Stored in directory: /root/.cache/pip/wheels/3c/42/7c/f60e9d1b40015cd69b213ad90f7c18a9264cd745b9888134be\n",
            "Successfully built python-speech-features\n",
            "Installing collected packages: python-speech-features\n",
            "Successfully installed python-speech-features-0.6\n"
          ],
          "name": "stdout"
        }
      ]
    },
    {
      "cell_type": "code",
      "metadata": {
        "id": "gOD04lwoha8j",
        "colab_type": "code",
        "colab": {}
      },
      "source": [
        "#  os and argparse is done to read files from local folders\n",
        "import os\n",
        "import argparse\n",
        "\n",
        "import numpy as np\n",
        "from scipy.io import wavfile\n",
        "import scipy.signal\n",
        "from python_speech_features import mfcc\n",
        "import matplotlib.pyplot as plt\n",
        "import warnings\n",
        "import random\n",
        "\n",
        "# tesorflow is for the Deep learning model\n",
        "import tensorflow as tf\n",
        "from tensorflow.keras.utils import plot_model\n",
        "from tensorflow.keras.models import Model\n",
        "from tensorflow.keras.layers import Input\n",
        "from tensorflow.keras.layers import Dense ,LSTM , TimeDistributed\n",
        "from tensorflow.keras.layers import Dropout\n",
        "from sklearn.metrics import f1_score, precision_score, recall_score, confusion_matrix\n",
        "\n",
        "import IPython\n",
        "import librosa\n",
        "from scipy.signal import butter, lfilter\n",
        "%matplotlib inline"
      ],
      "execution_count": null,
      "outputs": []
    },
    {
      "cell_type": "code",
      "metadata": {
        "id": "E6WKgvf-vCf4",
        "colab_type": "code",
        "colab": {
          "base_uri": "https://localhost:8080/",
          "height": 124
        },
        "outputId": "7d80ee36-5be4-41d4-884f-ed066289e627"
      },
      "source": [
        "from google.colab import drive  # the sounds are stored in google drive \n",
        "drive.mount('/content/gdrive')"
      ],
      "execution_count": null,
      "outputs": [
        {
          "output_type": "stream",
          "text": [
            "Go to this URL in a browser: https://accounts.google.com/o/oauth2/auth?client_id=947318989803-6bn6qk8qdgf4n4g3pfee6491hc0brc4i.apps.googleusercontent.com&redirect_uri=urn%3aietf%3awg%3aoauth%3a2.0%3aoob&response_type=code&scope=email%20https%3a%2f%2fwww.googleapis.com%2fauth%2fdocs.test%20https%3a%2f%2fwww.googleapis.com%2fauth%2fdrive%20https%3a%2f%2fwww.googleapis.com%2fauth%2fdrive.photos.readonly%20https%3a%2f%2fwww.googleapis.com%2fauth%2fpeopleapi.readonly\n",
            "\n",
            "Enter your authorization code:\n",
            "··········\n",
            "Mounted at /content/gdrive\n"
          ],
          "name": "stdout"
        }
      ]
    },
    {
      "cell_type": "code",
      "metadata": {
        "id": "8S1jwaxpvPQO",
        "colab_type": "code",
        "colab": {
          "base_uri": "https://localhost:8080/",
          "height": 35
        },
        "outputId": "c199afdf-c1c7-43e0-8ab8-6880ea346fb4"
      },
      "source": [
        "# folder where files are stored\n",
        "%cd /content/gdrive/'My Drive'/Colab Notebooks/data/training-a   "
      ],
      "execution_count": null,
      "outputs": [
        {
          "output_type": "stream",
          "text": [
            "/content/gdrive/My Drive/Colab Notebooks/data/training-a\n"
          ],
          "name": "stdout"
        }
      ]
    },
    {
      "cell_type": "markdown",
      "metadata": {
        "id": "e0hJIGbCX002",
        "colab_type": "text"
      },
      "source": [
        "**about the dataset**"
      ]
    },
    {
      "cell_type": "code",
      "metadata": {
        "id": "CRrgF44PvZxe",
        "colab_type": "code",
        "colab": {
          "base_uri": "https://localhost:8080/",
          "height": 35
        },
        "outputId": "7636aaaa-2eb2-4afb-a468-a5fa60a53a13"
      },
      "source": [
        "#############################################################  MFCC EXTRACTION   ##########################################################\n",
        "# Variable assignment \n",
        "tt = 0\n",
        "time_steps = 450\n",
        "data_directory=os.getcwd()\n",
        "nfft = 1203 # Number of FFTs\n",
        "\n",
        "digit_directory = data_directory\n",
        "\n",
        "\n",
        "# To normalize the signal\n",
        "def normalize(v):\n",
        "    norm = np.linalg.norm(v)\n",
        "    if norm == 0: \n",
        "        return v\n",
        "    return v / norm\n",
        "    \n",
        "def process_directory():\n",
        "    mfcc_features = list()\n",
        "    for filename in [x for x in os.listdir(data_directory) if x.endswith('.wav')]:\n",
        "        # Read the .wav input file\n",
        "        filepath = os.path.join(digit_directory, filename)\n",
        "        sampling_freq, audio = wavfile.read(filepath)\n",
        "        label=\"n.wav\"\n",
        "\n",
        "\n",
        "# open the .hea file of the same filename to get the label as normal /abnormal.\n",
        "        st= data_directory +\"/\"+filename.split(\".\")[0]+\".hea\"\n",
        "        with open(st,'r') as f:\n",
        "            for line in f:\n",
        "                for word in line.split():\n",
        "                    if(word==\"Abnormal\"):\n",
        "                        label=\"a.wav\"\n",
        "\n",
        "\n",
        "# now we have the label stored in 'label' and the audio as 'audio' with sampling freq. as 'sampling_freq'.\n",
        "        #audio1 = audio[dic[filename.split(\".\")[0]]:]\n",
        "        audio1 = SVDnoise(audio/32768)\n",
        "        #audio1 = audio\n",
        "        temp = mfcc(audio1, sampling_freq, nfft=nfft)\n",
        "        temp = temp[tt:tt+time_steps,:]\n",
        "        mfcc_features.append({\"label\": label, \"mfcc\": temp })\n",
        "\n",
        "\n",
        "        # mfcc features of this audio has been appended to the list \n",
        "    return mfcc_features\n",
        "\n",
        "\n",
        "###########################   CREATING MFCC FEATURES   ############################\n",
        "processed_files = list()\n",
        "mfcc_features = process_directory()\n",
        "random.shuffle(mfcc_features)\n",
        "\n",
        "############   TRAINING DATA   ###########\n",
        "size = (8*len(mfcc_features))/10\n",
        "train_features = mfcc_features[0:int(size)]\n",
        "test_list = mfcc_features[int(size+1):]\n",
        "train_size = 0\n",
        "for feature in train_features:\n",
        "    train_size += 1\n",
        "    processed_files.append({'label': feature[\"label\"], 'feature': feature[\"mfcc\"] })\n",
        "# Train rnn for each MFCC and add to training set\n",
        "x = np.zeros((train_size, time_steps ,13))\n",
        "y_train = np.zeros((train_size))\n",
        "i = 0\n",
        "for processed_file in processed_files:\n",
        "#       print(processed_file['label'])\n",
        "#       print(processed_file['feature'].shape)\n",
        "    x[i,:,:] = processed_file['feature']\n",
        "    s = processed_file['label']\n",
        "    if(s[0]=='a'):\n",
        "        y_train[i]=1\n",
        "    else:\n",
        "        y_train[i]=0\n",
        "    i += 1\n",
        "normalize(x)\n",
        "\n",
        "############   TESTING DATA   #############\n",
        "test_files = list()\n",
        "test_features = test_list\n",
        "test_size = 0\n",
        "for feature in test_features:\n",
        "    test_size += 1\n",
        "    test_files.append({'label': feature[\"label\"], 'feature': feature[\"mfcc\"] })\n",
        "y_test = np.zeros((test_size))\n",
        "x_test = np.zeros((test_size, time_steps ,13))\n",
        "i = 0\n",
        "for test_file in test_files:\n",
        "    x_test[i,:,:] = test_file['feature']\n",
        "    s = test_file['label']\n",
        "#             print(s)\n",
        "    if(s[0]=='a'):\n",
        "        y_test[i]=1\n",
        "    else:\n",
        "        y_test[i]=0\n",
        "    i += 1\n",
        "normalize(x_test)\n",
        "\n",
        "print('MFCC EXTRACTION DONE !')"
      ],
      "execution_count": null,
      "outputs": [
        {
          "output_type": "stream",
          "text": [
            "MFCC EXTRACTION DONE !\n"
          ],
          "name": "stdout"
        }
      ]
    },
    {
      "cell_type": "markdown",
      "metadata": {
        "id": "7ZaT_R-l04RW",
        "colab_type": "text"
      },
      "source": [
        "## RNN MODEL\n",
        "### Model Structure:\n",
        "- visible layer or input layer : size of input = 13 (mfcc matrix has column size 13)\n",
        "- hidden layer 1: LSTM layer\n",
        "- hidden layer 2: LSTM layer\n",
        "- 1 dense layer having activation function = \"relu\" (rectified linear)\n",
        "- output layer : classification  \n",
        "\n",
        "![download.png](attachment:download.png)  \n",
        "<font size=\"2\">*In the figure, the dense layer is missing, but this is to give a brief idea of how the data is flowing in the model structure.*</font>  \n",
        "### Building the Model:\n",
        "- loss function: to compute the loss (currently \"mean squared error\")\n",
        "- optimizer function: adam\n",
        "- metrics: accuracy\n",
        "- **model.fit:** this function tries for the best possible fit of the model to the training data.\n",
        "<br>\n",
        "<font size=\"2\"> <font color=\"brown\"> The later part of the code was to try the model for different values of Dopout(lmabda) to calculate accuracy.</font>\n"
      ]
    },
    {
      "cell_type": "code",
      "metadata": {
        "id": "RmDoZ-M-vZr_",
        "colab_type": "code",
        "colab": {}
      },
      "source": [
        "dropouts = np.array([0.15])\n",
        "accuracy = np.zeros(len(dropouts),dtype=float)"
      ],
      "execution_count": null,
      "outputs": []
    },
    {
      "cell_type": "code",
      "metadata": {
        "id": "sMiXU1q1vZlt",
        "colab_type": "code",
        "colab": {
          "base_uri": "https://localhost:8080/",
          "height": 1000
        },
        "outputId": "2e53da3a-d7fe-4bf3-d914-1eec6ef3b2c7"
      },
      "source": [
        "#########################  VARIABLES  ######################\n",
        "cell_no = 13\n",
        "Epoch_size = 100\n",
        "Lambda = 0.029  # dropout variable for regularization\n",
        "# No. of LSTM layers =2\n",
        "# Cost func. = cosh\n",
        "\n",
        "####################   MODEL STRUCTURE  ####################\n",
        "visible=Input(shape=(None,13))\n",
        "hidden11 = LSTM(cell_no,return_sequences=True)(visible)\n",
        "hidden1=Dropout(Lambda)(hidden11)\n",
        "\n",
        "hidden22 = LSTM(cell_no)(hidden1)\n",
        "hidden2=Dropout(Lambda)(hidden22)\n",
        "\n",
        "hidden33 = Dense(10, activation='relu')(hidden2)\n",
        "hidden3 = Dropout(Lambda)(hidden33)\n",
        "# hidden4 = TimeDistributed(Dense(1))\n",
        "\n",
        "output = Dense(1, activation='sigmoid')(hidden3)\n",
        "# output=Dropout(Lambda)(output1)\n",
        "\n",
        "model = Model(inputs=visible, outputs=output)\n",
        "\n",
        "model.compile(loss='mean_squared_error', optimizer='adam', metrics=['accuracy'])\n",
        "##################   MODEL END ########################\n",
        "count = 0\n",
        "for dr in dropouts:\n",
        "    total=0\n",
        "    for ii in range(1):\n",
        "        Lambda = dr\n",
        "        print(dr)\n",
        "\n",
        "        model.fit(x, y_train, epochs=Epoch_size, batch_size=10,verbose=1)\n",
        "        predict=model.predict(x_test)\n",
        "        y_pred=(predict>0.1)\n",
        "        acc=model.evaluate(x_test,y_test,verbose=0)\n",
        "        # print(predict)\n",
        "\n",
        "        total += acc[1]\n",
        "        print(acc)\n",
        "    total /=1\n",
        "    accuracy[count] = total\n",
        "    count += 1"
      ],
      "execution_count": null,
      "outputs": [
        {
          "output_type": "stream",
          "text": [
            "0.15\n",
            "Epoch 1/100\n",
            "33/33 [==============================] - 1s 33ms/step - loss: 0.2208 - accuracy: 0.7095\n",
            "Epoch 2/100\n",
            "33/33 [==============================] - 1s 32ms/step - loss: 0.2070 - accuracy: 0.7095\n",
            "Epoch 3/100\n",
            "33/33 [==============================] - 1s 31ms/step - loss: 0.2027 - accuracy: 0.7095\n",
            "Epoch 4/100\n",
            "33/33 [==============================] - 1s 31ms/step - loss: 0.1979 - accuracy: 0.7095\n",
            "Epoch 5/100\n",
            "33/33 [==============================] - 1s 31ms/step - loss: 0.1912 - accuracy: 0.7095\n",
            "Epoch 6/100\n",
            "33/33 [==============================] - 1s 31ms/step - loss: 0.1846 - accuracy: 0.7095\n",
            "Epoch 7/100\n",
            "33/33 [==============================] - 1s 32ms/step - loss: 0.1782 - accuracy: 0.7095\n",
            "Epoch 8/100\n",
            "33/33 [==============================] - 1s 31ms/step - loss: 0.1723 - accuracy: 0.7095\n",
            "Epoch 9/100\n",
            "33/33 [==============================] - 1s 32ms/step - loss: 0.1666 - accuracy: 0.7095\n",
            "Epoch 10/100\n",
            "33/33 [==============================] - 1s 32ms/step - loss: 0.1614 - accuracy: 0.7064\n",
            "Epoch 11/100\n",
            "33/33 [==============================] - 1s 32ms/step - loss: 0.1556 - accuracy: 0.7095\n",
            "Epoch 12/100\n",
            "33/33 [==============================] - 1s 31ms/step - loss: 0.1578 - accuracy: 0.7248\n",
            "Epoch 13/100\n",
            "33/33 [==============================] - 1s 31ms/step - loss: 0.1474 - accuracy: 0.7554\n",
            "Epoch 14/100\n",
            "33/33 [==============================] - 1s 31ms/step - loss: 0.1429 - accuracy: 0.7798\n",
            "Epoch 15/100\n",
            "33/33 [==============================] - 1s 31ms/step - loss: 0.1483 - accuracy: 0.7798\n",
            "Epoch 16/100\n",
            "33/33 [==============================] - 1s 32ms/step - loss: 0.1397 - accuracy: 0.7920\n",
            "Epoch 17/100\n",
            "33/33 [==============================] - 1s 32ms/step - loss: 0.1353 - accuracy: 0.8135\n",
            "Epoch 18/100\n",
            "33/33 [==============================] - 1s 32ms/step - loss: 0.1341 - accuracy: 0.8073\n",
            "Epoch 19/100\n",
            "33/33 [==============================] - 1s 32ms/step - loss: 0.1324 - accuracy: 0.8043\n",
            "Epoch 20/100\n",
            "33/33 [==============================] - 1s 32ms/step - loss: 0.1242 - accuracy: 0.8257\n",
            "Epoch 21/100\n",
            "33/33 [==============================] - 1s 32ms/step - loss: 0.1208 - accuracy: 0.8502\n",
            "Epoch 22/100\n",
            "33/33 [==============================] - 1s 31ms/step - loss: 0.1157 - accuracy: 0.8379\n",
            "Epoch 23/100\n",
            "33/33 [==============================] - 1s 31ms/step - loss: 0.1091 - accuracy: 0.8746\n",
            "Epoch 24/100\n",
            "33/33 [==============================] - 1s 31ms/step - loss: 0.1057 - accuracy: 0.8624\n",
            "Epoch 25/100\n",
            "33/33 [==============================] - 1s 31ms/step - loss: 0.1113 - accuracy: 0.8624\n",
            "Epoch 26/100\n",
            "33/33 [==============================] - 1s 31ms/step - loss: 0.1015 - accuracy: 0.8869\n",
            "Epoch 27/100\n",
            "33/33 [==============================] - 1s 32ms/step - loss: 0.1105 - accuracy: 0.8593\n",
            "Epoch 28/100\n",
            "33/33 [==============================] - 1s 32ms/step - loss: 0.0995 - accuracy: 0.8624\n",
            "Epoch 29/100\n",
            "33/33 [==============================] - 1s 31ms/step - loss: 0.1093 - accuracy: 0.8440\n",
            "Epoch 30/100\n",
            "33/33 [==============================] - 1s 32ms/step - loss: 0.0968 - accuracy: 0.8654\n",
            "Epoch 31/100\n",
            "33/33 [==============================] - 1s 32ms/step - loss: 0.0856 - accuracy: 0.8869\n",
            "Epoch 32/100\n",
            "33/33 [==============================] - 1s 31ms/step - loss: 0.0880 - accuracy: 0.8991\n",
            "Epoch 33/100\n",
            "33/33 [==============================] - 1s 31ms/step - loss: 0.0892 - accuracy: 0.8869\n",
            "Epoch 34/100\n",
            "33/33 [==============================] - 1s 32ms/step - loss: 0.0878 - accuracy: 0.8960\n",
            "Epoch 35/100\n",
            "33/33 [==============================] - 1s 31ms/step - loss: 0.0840 - accuracy: 0.8807\n",
            "Epoch 36/100\n",
            "33/33 [==============================] - 1s 32ms/step - loss: 0.0768 - accuracy: 0.8991\n",
            "Epoch 37/100\n",
            "33/33 [==============================] - 1s 32ms/step - loss: 0.0671 - accuracy: 0.9235\n",
            "Epoch 38/100\n",
            "33/33 [==============================] - 1s 31ms/step - loss: 0.0651 - accuracy: 0.9297\n",
            "Epoch 39/100\n",
            "33/33 [==============================] - 1s 31ms/step - loss: 0.0665 - accuracy: 0.9235\n",
            "Epoch 40/100\n",
            "33/33 [==============================] - 1s 32ms/step - loss: 0.0694 - accuracy: 0.9174\n",
            "Epoch 41/100\n",
            "33/33 [==============================] - 1s 32ms/step - loss: 0.0626 - accuracy: 0.9174\n",
            "Epoch 42/100\n",
            "33/33 [==============================] - 1s 32ms/step - loss: 0.0599 - accuracy: 0.9450\n",
            "Epoch 43/100\n",
            "33/33 [==============================] - 1s 31ms/step - loss: 0.0483 - accuracy: 0.9541\n",
            "Epoch 44/100\n",
            "33/33 [==============================] - 1s 31ms/step - loss: 0.0470 - accuracy: 0.9541\n",
            "Epoch 45/100\n",
            "33/33 [==============================] - 1s 32ms/step - loss: 0.0453 - accuracy: 0.9480\n",
            "Epoch 46/100\n",
            "33/33 [==============================] - 1s 31ms/step - loss: 0.0498 - accuracy: 0.9358\n",
            "Epoch 47/100\n",
            "33/33 [==============================] - 1s 31ms/step - loss: 0.0577 - accuracy: 0.9297\n",
            "Epoch 48/100\n",
            "33/33 [==============================] - 1s 32ms/step - loss: 0.0503 - accuracy: 0.9450\n",
            "Epoch 49/100\n",
            "33/33 [==============================] - 1s 31ms/step - loss: 0.0406 - accuracy: 0.9572\n",
            "Epoch 50/100\n",
            "33/33 [==============================] - 1s 31ms/step - loss: 0.0366 - accuracy: 0.9602\n",
            "Epoch 51/100\n",
            "33/33 [==============================] - 1s 32ms/step - loss: 0.0380 - accuracy: 0.9541\n",
            "Epoch 52/100\n",
            "33/33 [==============================] - 1s 32ms/step - loss: 0.0324 - accuracy: 0.9694\n",
            "Epoch 53/100\n",
            "33/33 [==============================] - 1s 31ms/step - loss: 0.0444 - accuracy: 0.9480\n",
            "Epoch 54/100\n",
            "33/33 [==============================] - 1s 32ms/step - loss: 0.0489 - accuracy: 0.9388\n",
            "Epoch 55/100\n",
            "33/33 [==============================] - 1s 32ms/step - loss: 0.0440 - accuracy: 0.9480\n",
            "Epoch 56/100\n",
            "33/33 [==============================] - 1s 32ms/step - loss: 0.0334 - accuracy: 0.9602\n",
            "Epoch 57/100\n",
            "33/33 [==============================] - 1s 31ms/step - loss: 0.0376 - accuracy: 0.9602\n",
            "Epoch 58/100\n",
            "33/33 [==============================] - 1s 32ms/step - loss: 0.0360 - accuracy: 0.9572\n",
            "Epoch 59/100\n",
            "33/33 [==============================] - 1s 31ms/step - loss: 0.0388 - accuracy: 0.9480\n",
            "Epoch 60/100\n",
            "33/33 [==============================] - 1s 32ms/step - loss: 0.0300 - accuracy: 0.9633\n",
            "Epoch 61/100\n",
            "33/33 [==============================] - 1s 32ms/step - loss: 0.0361 - accuracy: 0.9572\n",
            "Epoch 62/100\n",
            "33/33 [==============================] - 1s 31ms/step - loss: 0.0267 - accuracy: 0.9725\n",
            "Epoch 63/100\n",
            "33/33 [==============================] - 1s 32ms/step - loss: 0.0299 - accuracy: 0.9664\n",
            "Epoch 64/100\n",
            "33/33 [==============================] - 1s 32ms/step - loss: 0.0249 - accuracy: 0.9755\n",
            "Epoch 65/100\n",
            "33/33 [==============================] - 1s 32ms/step - loss: 0.0245 - accuracy: 0.9755\n",
            "Epoch 66/100\n",
            "33/33 [==============================] - 1s 32ms/step - loss: 0.0282 - accuracy: 0.9694\n",
            "Epoch 67/100\n",
            "33/33 [==============================] - 1s 31ms/step - loss: 0.0414 - accuracy: 0.9450\n",
            "Epoch 68/100\n",
            "33/33 [==============================] - 1s 31ms/step - loss: 0.0687 - accuracy: 0.9113\n",
            "Epoch 69/100\n",
            "33/33 [==============================] - 1s 32ms/step - loss: 0.0764 - accuracy: 0.8991\n",
            "Epoch 70/100\n",
            "33/33 [==============================] - 1s 32ms/step - loss: 0.0495 - accuracy: 0.9419\n",
            "Epoch 71/100\n",
            "33/33 [==============================] - 1s 32ms/step - loss: 0.0360 - accuracy: 0.9633\n",
            "Epoch 72/100\n",
            "33/33 [==============================] - 1s 31ms/step - loss: 0.0265 - accuracy: 0.9664\n",
            "Epoch 73/100\n",
            "33/33 [==============================] - 1s 32ms/step - loss: 0.0283 - accuracy: 0.9725\n",
            "Epoch 74/100\n",
            "33/33 [==============================] - 1s 31ms/step - loss: 0.0215 - accuracy: 0.9786\n",
            "Epoch 75/100\n",
            "33/33 [==============================] - 1s 32ms/step - loss: 0.0194 - accuracy: 0.9847\n",
            "Epoch 76/100\n",
            "33/33 [==============================] - 1s 31ms/step - loss: 0.0216 - accuracy: 0.9786\n",
            "Epoch 77/100\n",
            "33/33 [==============================] - 1s 32ms/step - loss: 0.0181 - accuracy: 0.9817\n",
            "Epoch 78/100\n",
            "33/33 [==============================] - 1s 32ms/step - loss: 0.0174 - accuracy: 0.9817\n",
            "Epoch 79/100\n",
            "33/33 [==============================] - 1s 31ms/step - loss: 0.0183 - accuracy: 0.9817\n",
            "Epoch 80/100\n",
            "33/33 [==============================] - 1s 32ms/step - loss: 0.0407 - accuracy: 0.9450\n",
            "Epoch 81/100\n",
            "33/33 [==============================] - 1s 31ms/step - loss: 0.0607 - accuracy: 0.9327\n",
            "Epoch 82/100\n",
            "33/33 [==============================] - 1s 32ms/step - loss: 0.0392 - accuracy: 0.9511\n",
            "Epoch 83/100\n",
            "33/33 [==============================] - 1s 32ms/step - loss: 0.0492 - accuracy: 0.9358\n",
            "Epoch 84/100\n",
            "33/33 [==============================] - 1s 31ms/step - loss: 0.0280 - accuracy: 0.9694\n",
            "Epoch 85/100\n",
            "33/33 [==============================] - 1s 31ms/step - loss: 0.0349 - accuracy: 0.9664\n",
            "Epoch 86/100\n",
            "33/33 [==============================] - 1s 31ms/step - loss: 0.0274 - accuracy: 0.9725\n",
            "Epoch 87/100\n",
            "33/33 [==============================] - 1s 31ms/step - loss: 0.0202 - accuracy: 0.9847\n",
            "Epoch 88/100\n",
            "33/33 [==============================] - 1s 31ms/step - loss: 0.0172 - accuracy: 0.9847\n",
            "Epoch 89/100\n",
            "33/33 [==============================] - 1s 31ms/step - loss: 0.0143 - accuracy: 0.9878\n",
            "Epoch 90/100\n",
            "33/33 [==============================] - 1s 31ms/step - loss: 0.0169 - accuracy: 0.9847\n",
            "Epoch 91/100\n",
            "33/33 [==============================] - 1s 31ms/step - loss: 0.0154 - accuracy: 0.9847\n",
            "Epoch 92/100\n",
            "33/33 [==============================] - 1s 31ms/step - loss: 0.0159 - accuracy: 0.9878\n",
            "Epoch 93/100\n",
            "33/33 [==============================] - 1s 31ms/step - loss: 0.0156 - accuracy: 0.9847\n",
            "Epoch 94/100\n",
            "33/33 [==============================] - 1s 32ms/step - loss: 0.0162 - accuracy: 0.9847\n",
            "Epoch 95/100\n",
            "33/33 [==============================] - 1s 32ms/step - loss: 0.0181 - accuracy: 0.9847\n",
            "Epoch 96/100\n",
            "33/33 [==============================] - 1s 31ms/step - loss: 0.0173 - accuracy: 0.9817\n",
            "Epoch 97/100\n",
            "33/33 [==============================] - 1s 31ms/step - loss: 0.0175 - accuracy: 0.9847\n",
            "Epoch 98/100\n",
            "33/33 [==============================] - 1s 32ms/step - loss: 0.0205 - accuracy: 0.9755\n",
            "Epoch 99/100\n",
            "33/33 [==============================] - 1s 32ms/step - loss: 0.0167 - accuracy: 0.9847\n",
            "Epoch 100/100\n",
            "33/33 [==============================] - 1s 32ms/step - loss: 0.0142 - accuracy: 0.9878\n",
            "[0.30656254291534424, 0.6790123581886292]\n"
          ],
          "name": "stdout"
        }
      ]
    },
    {
      "cell_type": "code",
      "metadata": {
        "id": "Z1WTvY0dyQHi",
        "colab_type": "code",
        "colab": {
          "base_uri": "https://localhost:8080/",
          "height": 104
        },
        "outputId": "609008ca-38dc-4f8e-9abe-1b3a932d4a9d"
      },
      "source": [
        "\n",
        "#Print f1, precision, and recall scores\n",
        "print(precision_score(y_test, y_pred , average=\"macro\"))\n",
        "print(recall_score(y_test, y_pred , average=\"macro\"))\n",
        "print(f1_score(y_test, y_pred , average=\"macro\"))\n",
        "confusion = confusion_matrix(y_test,y_pred,labels=[0,1])\n",
        "print(confusion)"
      ],
      "execution_count": null,
      "outputs": [
        {
          "output_type": "stream",
          "text": [
            "0.4661971830985916\n",
            "0.48095238095238096\n",
            "0.4614626939177543\n",
            "[[ 2 19]\n",
            " [ 8 52]]\n"
          ],
          "name": "stdout"
        }
      ]
    },
    {
      "cell_type": "code",
      "metadata": {
        "id": "9qtXvBvWHt8a",
        "colab_type": "code",
        "colab": {
          "base_uri": "https://localhost:8080/",
          "height": 35
        },
        "outputId": "7632fc5d-c7b3-4a10-c632-054b7a19fc34"
      },
      "source": [
        "accuracy"
      ],
      "execution_count": null,
      "outputs": [
        {
          "output_type": "execute_result",
          "data": {
            "text/plain": [
              "array([0.67901236])"
            ]
          },
          "metadata": {
            "tags": []
          },
          "execution_count": 18
        }
      ]
    },
    {
      "cell_type": "code",
      "metadata": {
        "id": "loVX2KG6zems",
        "colab_type": "code",
        "colab": {}
      },
      "source": [
        ""
      ],
      "execution_count": null,
      "outputs": []
    }
  ]
}